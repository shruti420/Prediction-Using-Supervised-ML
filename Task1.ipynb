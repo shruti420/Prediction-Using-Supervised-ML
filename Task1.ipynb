{
 "cells": [
  {
   "cell_type": "markdown",
   "id": "b6cb3014-25c1-4a89-a040-77375e520c2d",
   "metadata": {
    "tags": []
   },
   "source": [
    "# Shruti Dudharkar\n",
    "## Task 1: Prediction Using Supervised Machine Learning\n",
    "\n",
    "Technical Stack: Scikit, Numpy,Pandas, Matplotlib"
   ]
  },
  {
   "cell_type": "markdown",
   "id": "72b923a8-628b-4e4c-a748-99415432fd92",
   "metadata": {},
   "source": [
    "**Step1. Import libraries**"
   ]
  },
  {
   "cell_type": "code",
   "execution_count": null,
   "id": "1905b25a-4f51-4b0a-acac-9dd36dda33b8",
   "metadata": {},
   "outputs": [],
   "source": [
    "import numpy as np\n",
    "import pandas as pd\n",
    "import matplotlib.pyplot as plt"
   ]
  },
  {
   "cell_type": "markdown",
   "id": "832c6f24-1e68-4797-bdd3-33e3a5e54a07",
   "metadata": {},
   "source": [
    "\n",
    "**Step2: Import the dataset**"
   ]
  },
  {
   "cell_type": "code",
   "execution_count": 2,
   "id": "f28809f9-6966-4896-89d8-c570a8940bcb",
   "metadata": {},
   "outputs": [
    {
     "name": "stdout",
     "output_type": "stream",
     "text": [
      "DataSet imported successfully!\n"
     ]
    }
   ],
   "source": [
    "url = \"http://bit.ly/w-data\"\n",
    "df = pd.read_csv(url)\n",
    "print(\"DataSet imported successfully!\")"
   ]
  },
  {
   "cell_type": "code",
   "execution_count": 3,
   "id": "ca08707e-a67d-4739-8654-4b1b2037d712",
   "metadata": {},
   "outputs": [
    {
     "data": {
      "text/html": [
       "<div>\n",
       "<style scoped>\n",
       "    .dataframe tbody tr th:only-of-type {\n",
       "        vertical-align: middle;\n",
       "    }\n",
       "\n",
       "    .dataframe tbody tr th {\n",
       "        vertical-align: top;\n",
       "    }\n",
       "\n",
       "    .dataframe thead th {\n",
       "        text-align: right;\n",
       "    }\n",
       "</style>\n",
       "<table border=\"1\" class=\"dataframe\">\n",
       "  <thead>\n",
       "    <tr style=\"text-align: right;\">\n",
       "      <th></th>\n",
       "      <th>Hours</th>\n",
       "      <th>Scores</th>\n",
       "    </tr>\n",
       "  </thead>\n",
       "  <tbody>\n",
       "    <tr>\n",
       "      <th>count</th>\n",
       "      <td>25.000000</td>\n",
       "      <td>25.000000</td>\n",
       "    </tr>\n",
       "    <tr>\n",
       "      <th>mean</th>\n",
       "      <td>5.012000</td>\n",
       "      <td>51.480000</td>\n",
       "    </tr>\n",
       "    <tr>\n",
       "      <th>std</th>\n",
       "      <td>2.525094</td>\n",
       "      <td>25.286887</td>\n",
       "    </tr>\n",
       "    <tr>\n",
       "      <th>min</th>\n",
       "      <td>1.100000</td>\n",
       "      <td>17.000000</td>\n",
       "    </tr>\n",
       "    <tr>\n",
       "      <th>25%</th>\n",
       "      <td>2.700000</td>\n",
       "      <td>30.000000</td>\n",
       "    </tr>\n",
       "    <tr>\n",
       "      <th>50%</th>\n",
       "      <td>4.800000</td>\n",
       "      <td>47.000000</td>\n",
       "    </tr>\n",
       "    <tr>\n",
       "      <th>75%</th>\n",
       "      <td>7.400000</td>\n",
       "      <td>75.000000</td>\n",
       "    </tr>\n",
       "    <tr>\n",
       "      <th>max</th>\n",
       "      <td>9.200000</td>\n",
       "      <td>95.000000</td>\n",
       "    </tr>\n",
       "  </tbody>\n",
       "</table>\n",
       "</div>"
      ],
      "text/plain": [
       "           Hours     Scores\n",
       "count  25.000000  25.000000\n",
       "mean    5.012000  51.480000\n",
       "std     2.525094  25.286887\n",
       "min     1.100000  17.000000\n",
       "25%     2.700000  30.000000\n",
       "50%     4.800000  47.000000\n",
       "75%     7.400000  75.000000\n",
       "max     9.200000  95.000000"
      ]
     },
     "execution_count": 3,
     "metadata": {},
     "output_type": "execute_result"
    }
   ],
   "source": [
    "df.describe()"
   ]
  },
  {
   "cell_type": "code",
   "execution_count": 4,
   "id": "29f9f232-7718-4685-aded-05326880aefd",
   "metadata": {},
   "outputs": [
    {
     "data": {
      "text/plain": [
       "(25, 2)"
      ]
     },
     "execution_count": 4,
     "metadata": {},
     "output_type": "execute_result"
    }
   ],
   "source": [
    "df.shape"
   ]
  },
  {
   "cell_type": "code",
   "execution_count": 5,
   "id": "04e553d1-11a2-411b-9185-8ae3ad6ea3cc",
   "metadata": {},
   "outputs": [
    {
     "data": {
      "text/html": [
       "<div>\n",
       "<style scoped>\n",
       "    .dataframe tbody tr th:only-of-type {\n",
       "        vertical-align: middle;\n",
       "    }\n",
       "\n",
       "    .dataframe tbody tr th {\n",
       "        vertical-align: top;\n",
       "    }\n",
       "\n",
       "    .dataframe thead th {\n",
       "        text-align: right;\n",
       "    }\n",
       "</style>\n",
       "<table border=\"1\" class=\"dataframe\">\n",
       "  <thead>\n",
       "    <tr style=\"text-align: right;\">\n",
       "      <th></th>\n",
       "      <th>Hours</th>\n",
       "      <th>Scores</th>\n",
       "    </tr>\n",
       "  </thead>\n",
       "  <tbody>\n",
       "    <tr>\n",
       "      <th>0</th>\n",
       "      <td>2.5</td>\n",
       "      <td>21</td>\n",
       "    </tr>\n",
       "    <tr>\n",
       "      <th>1</th>\n",
       "      <td>5.1</td>\n",
       "      <td>47</td>\n",
       "    </tr>\n",
       "    <tr>\n",
       "      <th>2</th>\n",
       "      <td>3.2</td>\n",
       "      <td>27</td>\n",
       "    </tr>\n",
       "    <tr>\n",
       "      <th>3</th>\n",
       "      <td>8.5</td>\n",
       "      <td>75</td>\n",
       "    </tr>\n",
       "    <tr>\n",
       "      <th>4</th>\n",
       "      <td>3.5</td>\n",
       "      <td>30</td>\n",
       "    </tr>\n",
       "  </tbody>\n",
       "</table>\n",
       "</div>"
      ],
      "text/plain": [
       "   Hours  Scores\n",
       "0    2.5      21\n",
       "1    5.1      47\n",
       "2    3.2      27\n",
       "3    8.5      75\n",
       "4    3.5      30"
      ]
     },
     "execution_count": 5,
     "metadata": {},
     "output_type": "execute_result"
    }
   ],
   "source": [
    "df.head()"
   ]
  },
  {
   "cell_type": "markdown",
   "id": "ee616640-117f-41a0-bfed-c6492d00de1a",
   "metadata": {},
   "source": [
    "**Step:3 Visualizing the dataset by finding relationship between data points with graphical respresentation.**"
   ]
  },
  {
   "cell_type": "code",
   "execution_count": 6,
   "id": "d02097a6-e8bf-4abf-b61c-8b0aff2f3f50",
   "metadata": {},
   "outputs": [
    {
     "data": {
      "image/png": "[encoded data removed]",
      "text/plain": [
       "<Figure size 432x288 with 1 Axes>"
      ]
     },
     "metadata": {
      "needs_background": "light"
     },
     "output_type": "display_data"
    }
   ],
   "source": [
    "df.plot(x= \"Hours\", y=\"Scores\",style= \"o\" ,c=\"g\")\n",
    "plt.xlabel(\"Hours Studied\")\n",
    "plt.ylabel(\"Score in percentage\")\n",
    "plt.title(\"Hours VS Scores\")\n",
    "plt.show()"
   ]
  },
  {
   "cell_type": "markdown",
   "id": "a70c7e0d-8898-4e13-9412-229cce37f637",
   "metadata": {},
   "source": [
    "* Therefore a positive Linear Regression is observed."
   ]
  },
  {
   "cell_type": "markdown",
   "id": "926eb79a-192e-4084-becb-497d84e47d7d",
   "metadata": {},
   "source": [
    "**Step4: Let's Prepare the data by dividing the data into 'attributes' and 'label'.**"
   ]
  },
  {
   "cell_type": "code",
   "execution_count": 7,
   "id": "df2af971-0535-4ce6-af1a-448e43028fc4",
   "metadata": {},
   "outputs": [],
   "source": [
    "x = df.iloc[:,:-1].values\n",
    "y = df.iloc[:,1].values"
   ]
  },
  {
   "cell_type": "markdown",
   "id": "660aa8c6-a4ec-4433-b80f-a4b1029e1483",
   "metadata": {},
   "source": [
    "**Step:5 Splitting the dataset into training and testing models.**"
   ]
  },
  {
   "cell_type": "code",
   "execution_count": 8,
   "id": "3d08d4d1-ff25-45dd-8e4d-4f781da7acb9",
   "metadata": {},
   "outputs": [],
   "source": [
    "from sklearn.model_selection import train_test_split\n",
    "x_train, x_test, y_train, y_test= train_test_split(x, y, test_size= 0.2, random_state= 0 )"
   ]
  },
  {
   "cell_type": "code",
   "execution_count": 9,
   "id": "95792d83-371a-47bd-8439-a871814ec098",
   "metadata": {},
   "outputs": [
    {
     "data": {
      "text/plain": [
       "LinearRegression()"
      ]
     },
     "execution_count": 9,
     "metadata": {},
     "output_type": "execute_result"
    }
   ],
   "source": [
    "from sklearn.linear_model import LinearRegression\n",
    "lr = LinearRegression()\n",
    "lr.fit(x_train, y_train)"
   ]
  },
  {
   "cell_type": "code",
   "execution_count": 10,
   "id": "61d51a10-901a-42a0-8a0a-f6162e4cd8d6",
   "metadata": {},
   "outputs": [
    {
     "name": "stdout",
     "output_type": "stream",
     "text": [
      "Training has been successfully completed!\n"
     ]
    }
   ],
   "source": [
    "print(\"Training has been successfully completed!\")"
   ]
  },
  {
   "cell_type": "markdown",
   "id": "229ee706-46e3-487f-bcd9-3da36833b680",
   "metadata": {},
   "source": [
    "**Step:6 Let's plot the regression line.**"
   ]
  },
  {
   "cell_type": "code",
   "execution_count": 18,
   "id": "f3020a9f-b472-427d-9f0d-bff0eb96cee2",
   "metadata": {},
   "outputs": [
    {
     "name": "stdout",
     "output_type": "stream",
     "text": [
      "2.018160041434662\n",
      "[9.91065648]\n"
     ]
    }
   ],
   "source": [
    "print(lr.intercept_)\n",
    "print(lr.coef_)"
   ]
  },
  {
   "cell_type": "code",
   "execution_count": 12,
   "id": "e8051312-64f5-4b65-9d69-b69018e25ab1",
   "metadata": {},
   "outputs": [
    {
     "data": {
      "image/png": "[encoded data removed]",
      "text/plain": [
       "<Figure size 432x288 with 1 Axes>"
      ]
     },
     "metadata": {
      "needs_background": "light"
     },
     "output_type": "display_data"
    }
   ],
   "source": [
    "line = lr.coef_* x + lr.intercept_  \n",
    "plt.scatter(x,y)\n",
    "plt.plot(x ,line, c=\"g\")\n",
    "plt.xlabel(\"Hours Studied\")\n",
    "plt.ylabel(\"Score in percentage\")\n",
    "plt.show()"
   ]
  },
  {
   "cell_type": "markdown",
   "id": "ab0b9fd6-d2f5-4371-ae97-9baf016eb8de",
   "metadata": {},
   "source": [
    "**Step:7 Now let's make predictions.**"
   ]
  },
  {
   "cell_type": "code",
   "execution_count": 13,
   "id": "e530d187-9ca6-4dd1-a32c-43ce2260dfc4",
   "metadata": {},
   "outputs": [
    {
     "name": "stdout",
     "output_type": "stream",
     "text": [
      "[[1.5]\n",
      " [3.2]\n",
      " [7.4]\n",
      " [2.5]\n",
      " [5.9]]\n"
     ]
    }
   ],
   "source": [
    "print(x_test) \n",
    "y_pred = lr.predict(x_test)"
   ]
  },
  {
   "cell_type": "code",
   "execution_count": 14,
   "id": "e4277e6f-9423-4f8b-8446-cbe2144e4228",
   "metadata": {},
   "outputs": [
    {
     "data": {
      "text/html": [
       "<div>\n",
       "<style scoped>\n",
       "    .dataframe tbody tr th:only-of-type {\n",
       "        vertical-align: middle;\n",
       "    }\n",
       "\n",
       "    .dataframe tbody tr th {\n",
       "        vertical-align: top;\n",
       "    }\n",
       "\n",
       "    .dataframe thead th {\n",
       "        text-align: right;\n",
       "    }\n",
       "</style>\n",
       "<table border=\"1\" class=\"dataframe\">\n",
       "  <thead>\n",
       "    <tr style=\"text-align: right;\">\n",
       "      <th></th>\n",
       "      <th>Actual</th>\n",
       "      <th>Predicted</th>\n",
       "    </tr>\n",
       "  </thead>\n",
       "  <tbody>\n",
       "    <tr>\n",
       "      <th>0</th>\n",
       "      <td>20</td>\n",
       "      <td>16.884145</td>\n",
       "    </tr>\n",
       "    <tr>\n",
       "      <th>1</th>\n",
       "      <td>27</td>\n",
       "      <td>33.732261</td>\n",
       "    </tr>\n",
       "    <tr>\n",
       "      <th>2</th>\n",
       "      <td>69</td>\n",
       "      <td>75.357018</td>\n",
       "    </tr>\n",
       "    <tr>\n",
       "      <th>3</th>\n",
       "      <td>30</td>\n",
       "      <td>26.794801</td>\n",
       "    </tr>\n",
       "    <tr>\n",
       "      <th>4</th>\n",
       "      <td>62</td>\n",
       "      <td>60.491033</td>\n",
       "    </tr>\n",
       "  </tbody>\n",
       "</table>\n",
       "</div>"
      ],
      "text/plain": [
       "   Actual  Predicted\n",
       "0      20  16.884145\n",
       "1      27  33.732261\n",
       "2      69  75.357018\n",
       "3      30  26.794801\n",
       "4      62  60.491033"
      ]
     },
     "execution_count": 14,
     "metadata": {},
     "output_type": "execute_result"
    }
   ],
   "source": [
    "df1 = pd.DataFrame({'Actual': y_test, 'Predicted': y_pred})\n",
    "df1"
   ]
  },
  {
   "cell_type": "markdown",
   "id": "2a60d8b3-1df5-4c46-9ebc-fa7dfda3ee96",
   "metadata": {},
   "source": [
    "**Step:8 Evaluating mean absolute error**"
   ]
  },
  {
   "cell_type": "code",
   "execution_count": 15,
   "id": "b55315bb-ba5a-441e-ab50-4e841654dbc2",
   "metadata": {},
   "outputs": [
    {
     "name": "stdout",
     "output_type": "stream",
     "text": [
      "Mean Aboslute Error:  4.183859899002982\n"
     ]
    }
   ],
   "source": [
    "from sklearn import metrics\n",
    "print('Mean Aboslute Error: ', metrics.mean_absolute_error(y_test, y_pred))"
   ]
  },
  {
   "cell_type": "markdown",
   "id": "83ceef9c-7a20-4518-95dd-a3f59ba5df04",
   "metadata": {},
   "source": [
    "**Step:9 Predicting the score if a student studies for 9.25 hours a day.**"
   ]
  },
  {
   "cell_type": "code",
   "execution_count": 16,
   "id": "d04cbd35-e322-4089-9bec-abc2520856fd",
   "metadata": {},
   "outputs": [
    {
     "name": "stdout",
     "output_type": "stream",
     "text": [
      "Number of total hours : [[9.25]]\n",
      "Predicted Score : 93.69173248737539\n"
     ]
    }
   ],
   "source": [
    "hours =[[9.25]]\n",
    "pred_value = lr.predict(hours)\n",
    "print('Number of total hours : {}'.format(hours))\n",
    "print('Predicted Score : {}'.format(pred_value[0]))"
   ]
  },
  {
   "cell_type": "markdown",
   "id": "5eaa7914-86c1-40d9-99ae-13514791406e",
   "metadata": {},
   "source": [
    "* **Therefore, the predicted score of a student who studies for 9.25 hours/day is 93.691**"
   ]
  },
  {
   "cell_type": "markdown",
   "id": "b01020f1-72ea-4a59-a180-8c05b897da80",
   "metadata": {},
   "source": [
    "**Conclusion: I was successfully able to perform prediction using supervised machine learning and i was able to perform model's performance depending on various parameters.**"
   ]
  },
  {
   "cell_type": "code",
   "execution_count": null,
   "id": "21dc30af-7fbc-47d3-8258-3f51d3fde4bb",
   "metadata": {},
   "outputs": [],
   "source": []
  }
 ],
 "metadata": {
  "kernelspec": {
   "display_name": "Python 3",
   "language": "python",
   "name": "python3"
  },
  "language_info": {
   "codemirror_mode": {
    "name": "ipython",
    "version": 3
   },
   "file_extension": ".py",
   "mimetype": "text/x-python",
   "name": "python",
   "nbconvert_exporter": "python",
   "pygments_lexer": "ipython3",
   "version": "3.8.8"
  }
 },
 "nbformat": 4,
 "nbformat_minor": 5
}
